{
 "cells": [
  {
   "cell_type": "markdown",
   "metadata": {},
   "source": [
    "# Funktionen"
   ]
  },
  {
   "cell_type": "markdown",
   "metadata": {},
   "source": [
    "Funktionen sind Prozeduren oder, wenn man so will, Subprogramme, die aus dem Hauptprogramm heraus aufgerufen werden. Die Vorteile der Verwendung von Funktionen sind:\n",
    "\n",
    "* Funktionen sind wiederverwendbar: Eine einmal geschriebene Funktion kann in einem Programm mehrfach verwendet werden (oder sogar aus unterschiedlichen Programmen heraus)\n",
    "* Funktionen verhindern Redundanz\n",
    "* Funktionen gliedern den Code und machen ihn so besser verständlich und wartbar"
   ]
  },
  {
   "cell_type": "markdown",
   "metadata": {},
   "source": [
    "## Eine Funktion schreiben\n",
    "\n",
    "Eine Funktionsdeklaration beginnt in Python mit dem Schlüsselwort `def` (Viele andere Sprachen verwenden statt dessen `function`). Nach dem `def` folgt der Name der Funktion. Dieser sollte idealerweise ein Verb sein, da eine Funktion immer etwas tut. Der Name der Funktion wird durch ein Paar runde Klammern und einen Doppelpunkt abgeschlossen. Danach folgt eingerückt der eigentliche Funktionskörper mit dem wiederverwendbaren Code."
   ]
  },
  {
   "cell_type": "code",
   "execution_count": null,
   "metadata": {},
   "outputs": [],
   "source": [
    "def say_hello():\n",
    "    print('Hello!')"
   ]
  },
  {
   "cell_type": "markdown",
   "metadata": {},
   "source": [
    "Damit haben wir eine Funktion mit dem Namen `say_hello` geschrieben. Die Funktion tut noch nichts, da wir sie noch nicht aufgerufen haben. Der Aufruf der Funktion sieht so aus:"
   ]
  },
  {
   "cell_type": "code",
   "execution_count": null,
   "metadata": {},
   "outputs": [],
   "source": [
    "say_hello()"
   ]
  },
  {
   "cell_type": "markdown",
   "metadata": {},
   "source": [
    "Sie erinnern sich an die Funktionsaufrufe, die wir bisher gemacht haben, ohne eigentlich zu wissen was wir da tun?\n",
    "\n",
    "* `print()`\n",
    "* `type()`\n",
    "* `sorted()`\n",
    "* ..."
   ]
  },
  {
   "cell_type": "markdown",
   "metadata": {},
   "source": [
    "## Funktionsparameter\n",
    "Die gerade geschriebene Funktion `say_hello()` stellt nur die Minimalversion einer Funktion dar, die immer dasselbe tut. Wir können eine Funktion flexibler machen, indem wir ihr Parameter zuweisen:"
   ]
  },
  {
   "cell_type": "code",
   "execution_count": null,
   "metadata": {},
   "outputs": [],
   "source": [
    "def say_hello(username):\n",
    "    print('Hello {}!'.format(username))"
   ]
  },
  {
   "cell_type": "markdown",
   "metadata": {},
   "source": [
    "Hier legt die Funktionsdeklaration fest, dass der Funktion beim Aufruf ein *Parameter*, also ein Wert übergeben werden muss, der dann innerhalb der Funktion als  Variable `username` verfügbar ist. Wie können diesen Wert als *Argument* beim Aufruf der Funktion übergeben:"
   ]
  },
  {
   "cell_type": "code",
   "execution_count": null,
   "metadata": {},
   "outputs": [],
   "source": [
    "say_hello('Otto')"
   ]
  },
  {
   "cell_type": "code",
   "execution_count": null,
   "metadata": {},
   "outputs": [],
   "source": [
    "say_hello('Anna')"
   ]
  },
  {
   "cell_type": "markdown",
   "metadata": {},
   "source": [
    "## Rückgabewerte\n",
    "Jede Funktion gibt beim Aufruf einen Wert an das aufrufende Statement zurück. Dieser ist, wenn nicht anders angegeben, `None`."
   ]
  },
  {
   "cell_type": "code",
   "execution_count": null,
   "metadata": {},
   "outputs": [],
   "source": [
    "retval = say_hello('Otto')\n",
    "print('Rückgabewert: {}'.format(retval))"
   ]
  },
  {
   "cell_type": "markdown",
   "metadata": {},
   "source": [
    "Explizite Rückgabewerte sind immer dann sinnvoll, wenn eine Funktion z.B. etwas berechnet und das Resultat der Berechnung im Hauptprogramm verwendet werden soll.\n",
    "\n",
    "Die folgende Funktion transformatiert den übergebenen String, so, dass nur das erste und letzte Zeichen zurückgegeben werden und zwischen diesen beiden Zeichen die Zahl der dazwischenstehenden (nun entfernten) Zeichen. `abcd` wird also zu `a2d`."
   ]
  },
  {
   "cell_type": "code",
   "execution_count": null,
   "metadata": {},
   "outputs": [],
   "source": [
    "def shorten(long_str):\n",
    "    rv = long_str\n",
    "    if len(long_str) > 2: # only if long_str has more than 2 chars\n",
    "        # return the first, last and in between the number of left out chars\n",
    "        rv = \"{}{}{}\".format(long_str[0], len(long_str)-2, long_str[-1])\n",
    "    return rv"
   ]
  },
  {
   "cell_type": "code",
   "execution_count": null,
   "metadata": {},
   "outputs": [],
   "source": [
    "shorten('Internationalization')"
   ]
  },
  {
   "cell_type": "code",
   "execution_count": null,
   "metadata": {},
   "outputs": [],
   "source": [
    "shorten('Gunter')"
   ]
  },
  {
   "cell_type": "markdown",
   "metadata": {},
   "source": [
    "<div class=\"alert alert-block alert-info\">\n",
    "<b>Übung Func-1</b>\n",
    "<p>Schreiben Sie eine Funktion <tt>count_distinct_chars()</tt>, die einen Parameter <tt>text</tt> erwartet. Ermitteln Sie in der Funktion, aus wie vielen unterschiedlichen Zeichen <tt>text</tt> besteht (falls Sie nicht mehr wissen wie das geht, sehen Sie im Notebook zu sets nach) und liefern Sie diese Zahl als Ergebnis zurück</p>\n",
    "<p>Wenn Sie also <tt>count_distinc_chars('abcabc')</tt> aufrufen, sollen Sie als Ergebnis <tt>3</tt> bekommen.\n",
    "</div>    "
   ]
  },
  {
   "cell_type": "markdown",
   "metadata": {},
   "source": [
    "### Ein echtes Beispiel\n",
    "Erinnern wir uns an die Hausübung, wo wir die beliebtesten Vornamen von 1984 und 2015 verglichen haben. Dort haben wir für jedes der beiden Jahre die Namen aus der entsprechenden Datei als Liste eingelesen:"
   ]
  },
  {
   "cell_type": "code",
   "execution_count": null,
   "metadata": {},
   "outputs": [],
   "source": [
    "with open('data/vornamen/vornamen_1984.txt') as fh:\n",
    "    names_84 = [n.rstrip() for n in fh.readlines()]"
   ]
  },
  {
   "cell_type": "markdown",
   "metadata": {},
   "source": [
    "Anstatt diesen Code für jede zu untersuchende Datei neu zu schreiben, können wir eine entsprechende Funktion programmieren und diese mehrfach aufrufen:"
   ]
  },
  {
   "cell_type": "code",
   "execution_count": null,
   "metadata": {},
   "outputs": [],
   "source": [
    "def read_names(filename):\n",
    "    with open(filename) as fh:\n",
    "        names = [n.rstrip() for n in fh.readlines()]\n",
    "    return names"
   ]
  },
  {
   "cell_type": "code",
   "execution_count": null,
   "metadata": {},
   "outputs": [],
   "source": [
    "names_84 = read_names('data/vornamen/vornamen_1984.txt')\n",
    "names_15 = read_names('data/vornamen/vornamen_2015.txt')"
   ]
  },
  {
   "cell_type": "markdown",
   "metadata": {},
   "source": [
    "Wenn wir davon ausgehen können, dass wir die beliebtesten Vornamen eines jeden Jahres immer im Verzeichnis `data/vornamen` finden, und die Dateinamen immer gleich aufgebaut sind (`vornamen_YYYY.txt`), können wir auch eine spezialisiertere Funktion schreiben:"
   ]
  },
  {
   "cell_type": "code",
   "execution_count": null,
   "metadata": {},
   "outputs": [],
   "source": [
    "def read_names_for_year(year):\n",
    "    filename = \"data/vornamen/vornamen_{}.txt\".format(year)\n",
    "    with open(filename) as fh:\n",
    "        names = [n.rstrip() for n in fh.readlines()]\n",
    "    return names"
   ]
  },
  {
   "cell_type": "code",
   "execution_count": null,
   "metadata": {},
   "outputs": [],
   "source": [
    "names_84 = read_names_for_year(1984)\n",
    "names_15 = read_names_for_year(2015)"
   ]
  },
  {
   "cell_type": "markdown",
   "metadata": {},
   "source": [
    "### Funktionen vermeiden Redundanz\n",
    "Die zweite Lösung ist nicht so allgemein verwendbar wie die erste (weil sie davon ausgeht, dass alle Vornamen-Dateien in einem bestimmten Verzeichnis liegen und einem bestimmten Namensschema folgen), bietet aber neben der kompakteren Schreibweise beim Aufruf einen weiteren Vorteil: Falls sich z.B. an der Verzeichnisstruktur etwas ändert, brauchen wir diese Änderung nicht bei jedem einzelnen Aufruf der Funktion nachziehen, sondern an genau einer Stelle: in der Funktion.\n",
    "\n",
    "Nehmen wir an, aus irgendwelchen Gründen müssen wir den Verzeichnisnamen von `data/vornamen` nach `data/popular_firstnames` ändern. Während wir im ersten Beispiel alle Aufrufe von `read_names()` suchen und dort den Verzeichnisnamen ändern müßten (was bei zwei Aufrufen jetzt nicht so aufwändig wäre ;-)), brauchen wir im zweiten Fall die Änderung nur einmal (in der Funktion) zu machen:\n"
   ]
  },
  {
   "cell_type": "code",
   "execution_count": null,
   "metadata": {},
   "outputs": [],
   "source": [
    "def read_names_for_year(year):\n",
    "    filename = \"data/popular_firstnames/vornamen_{}.txt\".format(year)\n",
    "    with open(filename) as fh:\n",
    "        names = [n.rstrip() for n in fh.readlines()]\n",
    "    return names"
   ]
  },
  {
   "cell_type": "markdown",
   "metadata": {},
   "source": [
    "Hier aber auch gleich eine Warnung: Die Wiederverwendbarkeit einer Funktion hängt stark von ihrer Flexibilität (sprich: Parametrisierbarkeit) ab. Je spezialisierter eine Funktion ist, desto seltener kann sie wiederverwendet werden. Ebenso gilt das Gegenteil: Man kann eine Funktion sehr flexibel schreiben, indem man viele Parameter verwendet, aber irgendwann wird die Verwendung der Funktion dadurch so kompliziert, dass man sie nicht mehr verwenden will."
   ]
  },
  {
   "cell_type": "markdown",
   "metadata": {},
   "source": [
    "## Eine Funktion mit mehreren Parametern"
   ]
  },
  {
   "cell_type": "markdown",
   "metadata": {},
   "source": [
    "Grundsätzlich kann eine Funktion beliebig viele Parameter haben. In der Praxis sollte man sich, außer man hat gute Gründe, auf maximal 4 oder 5 Parameter beschränken."
   ]
  },
  {
   "cell_type": "code",
   "execution_count": null,
   "metadata": {},
   "outputs": [],
   "source": [
    "def compute_weight(length, width, height):\n",
    "    ccm = length * width * height\n",
    "    return ccm / 1000"
   ]
  },
  {
   "cell_type": "markdown",
   "metadata": {},
   "source": [
    "## Kommentare\n",
    "Dokumentation des Source Codes ist wichtig, weil dadurch der Code erklärt und für spätere Bearbeiter (und das werden häufig Sie selbst sein) leichter verständlich wird. Dazu verwendet man Kommentare. Das Kommentarzeichen in Python ist `#`. Alles was rechts neben dem Kommentarzeichen steht, wird beim Ausführen des Programms ignoriert.\n",
    "\n",
    "Man sollte allerdings nur Dinge kommentieren, die sich nicht ohnehin auf einfache Weise aus dem Code ableiten lassen:\n",
    "\n",
    "~~~\n",
    "...\n",
    "    i += 1 # increase i by 1\n",
    "...    \n",
    "~~~\n",
    "\n",
    "ist ein gutes Beispiel für einen unnötigen Kommentar. Als Faustregel sollten Sie beherzigen: Dokumentieren Sie nicht *was* passiert, sondern *warum* es passiert.\n",
    "\n",
    "Im nächsten Beispiel dokumentieren wir, woher ein bestimmter Wert kommt. Hier macht der Kommentar mehr Sinn.\n",
    "\n",
    "~~~\n",
    "def compute_weight(length, width, height):\n",
    "    ccm = length * width * height\n",
    "    # we assume a water density of 1000 kg/cbm\n",
    "    # so we first convert ccm to cbm \n",
    "    # and multiply by density of water (1000 kg/cbm)\n",
    "    # so ccm / 1000000 * 1000 = ccm / 1000\n",
    "    return ccm / 1000\n",
    "~~~    "
   ]
  },
  {
   "cell_type": "markdown",
   "metadata": {},
   "source": [
    "## Docstrings\n",
    "Python bietet mit Docstrings eine Besonderheit. In Form solcher Docstrings wird die Dokumentation Teil der Funktion (Docstrings können auch für Module und Pakete verwendet werden, aber dazu kommen wir erst später). Ein Docstring muss unmittelbar nach der Funktionsdeklaration in Form eines Strings stehen: "
   ]
  },
  {
   "cell_type": "code",
   "execution_count": null,
   "metadata": {},
   "outputs": [],
   "source": [
    "def compute_weight(length, width, height):\n",
    "    \"Return the weight of a fish tank in kg.\"\n",
    "    ccm = length * width * height\n",
    "    # we assume a water density of 1000 kg/cbm\n",
    "    # so we first convert ccm to cbm and multiply by density\n",
    "    # so ccm / 1000000 * 1000 = ccm / 1000\n",
    "    return ccm / 1000"
   ]
  },
  {
   "cell_type": "markdown",
   "metadata": {},
   "source": [
    "Der Docstring in diesem Beispiel wird wirklich Teil der Funktion und kann abgefragt werden:"
   ]
  },
  {
   "cell_type": "code",
   "execution_count": null,
   "metadata": {},
   "outputs": [],
   "source": [
    "compute_weight.__doc__"
   ]
  },
  {
   "cell_type": "markdown",
   "metadata": {},
   "source": [
    "Das machen sich beispielsweise die in Python eingebaute `help()`-Funktion zunutze, aber auch integrierte Entwicklungsumgebungen (IDE) verwenden Docstrings, um kontextsensitiv Informationen zu einer Funktion anzuzeigen."
   ]
  },
  {
   "cell_type": "code",
   "execution_count": null,
   "metadata": {},
   "outputs": [],
   "source": [
    "help(compute_weight)"
   ]
  },
  {
   "cell_type": "markdown",
   "metadata": {},
   "source": [
    "Auch in einem Jupyter Notebook steht dies zur Verfügung. Schreiben Sie in der unten stehenden Zelle einen Funktionsnamen (z.B. `compute_weight`) und drücken Sie dann gleichzeitig die Tasten `Shift` und `Tab`."
   ]
  },
  {
   "cell_type": "code",
   "execution_count": null,
   "metadata": {},
   "outputs": [],
   "source": []
  },
  {
   "cell_type": "markdown",
   "metadata": {},
   "source": [
    "### Mehrzeilige Docstrings\n",
    "Zusätzlich zur Basisform können auch ausführlichere Docstrings geschrieben werden:"
   ]
  },
  {
   "cell_type": "code",
   "execution_count": null,
   "metadata": {},
   "outputs": [],
   "source": [
    "def compute_weight(length, width, height):\n",
    "    \"\"\"Compute weight of water (in kg) for a fish tank.\n",
    "    \n",
    "    Args:\n",
    "        length -- length in cm.\n",
    "        width -- width in cm.\n",
    "        height -- height in cm.\n",
    "    Returns:\n",
    "        Weight in kg as float.\n",
    "    \"\"\"\n",
    "    ccm = length * width * height\n",
    "    # we assume a water density of 1000 kg/cbm\n",
    "    # so we first convert ccm to cbm and multiply by density\n",
    "    # so ccm / 1000000 * 1000 = ccm / 1000\n",
    "    return ccm / 1000"
   ]
  },
  {
   "cell_type": "code",
   "execution_count": null,
   "metadata": {},
   "outputs": [],
   "source": [
    "help(compute_weight)"
   ]
  },
  {
   "cell_type": "markdown",
   "metadata": {},
   "source": [
    "<div class=\"alert alert-block alert-info\">\n",
    "<b>Übung Func-2</b>\n",
    "<p>Die Dichte des Wassers ist abhängig von der Temperatur. Diese Werte stehen im Dictionary `densities`. Schreiben Sie `compute_weight` so um, dass das Gewicht abhängig von der Temperatur berechnet wird. D.h. schreiben Sie die Funktion so um, dass zusätzlich die Temperaratur übergeben wird und berechnen Sie das Gewicht unter Berücksichtigung der Temperatur.</p>\n",
    "<div>"
   ]
  },
  {
   "cell_type": "code",
   "execution_count": null,
   "metadata": {},
   "outputs": [],
   "source": [
    "# fluid densities only\n",
    "# ice has a density of 918, steam of 0.59 \n",
    "densities = {0: 999.84, 1: 999.9, 2: 999.94, 3: 999.96, 4: 999.97, 5: 999.96, \n",
    "             6: 999.94, 7: 999.9, 8: 999.85, 9: 999.78, 10: 999.7, 11: 999.6, \n",
    "             12: 999.5, 13: 999.38, 14: 999.24, 15: 999.1, 16: 998.94, \n",
    "             17: 998.77, 18: 998.59, 19: 998.4, 20: 998.2, 21: 997.99, \n",
    "             22: 997.77, 23: 997.54, 24: 997.29, 25: 997.04, 26: 996.78, \n",
    "             27: 996.51, 28: 996.23, 29: 995.94, 30: 995.64, 31: 995.34, \n",
    "             32: 995.02, 33: 994.7, 34: 994.37, 35: 994.03, 36: 993.68, \n",
    "             37: 993.32, 38: 992.96, 39: 992.59, 40: 992.21, 45: 990.21, \n",
    "             50: 988.03, 55: 985.69, 60: 983.19, 65: 980.55, 70: 977.76, \n",
    "             75: 974.84, 80: 971.79, 85: 968.61, 90: 965.3, 95: 961.88, \n",
    "             100: 958.35}\n"
   ]
  },
  {
   "cell_type": "markdown",
   "metadata": {},
   "source": [
    "<div class=\"alert alert-block alert-info\">\n",
    "<b>Übung Func-3</b>\n",
    "<p>Schreiben Sie die Funktion aus Übung Func-2 so um, dass nicht ein einzelner Temperaturwert übergeben wird, sondern zwei Werte, die als Intervall interpretiert werden sollen (von ... bis). Die Idee dahinter ist, dass man sagen kann: In diesem Raum liegt die Temperatur immer zwischen z.B. 10 und 30 Grad Celsius.</p>\n",
    "<p>Die Funktion soll das höchste Gewicht für diesen Temperaturbereich liefern.</p>\n",
    "<div>"
   ]
  },
  {
   "cell_type": "markdown",
   "metadata": {},
   "source": [
    "## Funktionen mit mehreren Rückgabewerten\n",
    "In den meisten Programmiersprachen können Funktionen nur einen Wert zurückliefern (außer natürlich, wenn die Rückgabewerte in einen Container \"verpackt\" werden). In Python können aber direkt zwei oder mehr Werte zurückgeliefert werden (zwei oder mehr durch Komma getrennte Werte werden von Python als Tuple interpretiert). "
   ]
  },
  {
   "cell_type": "code",
   "execution_count": null,
   "metadata": {},
   "outputs": [],
   "source": [
    "import random # we need this because we do not have a thermometer\n",
    "\n",
    "\n",
    "def get_temperature():\n",
    "    \"Return temperature in Celsius and Fahrenheit.\"\"\"\n",
    "    # as we do not have a thermometer attached, we return a random temperature\n",
    "    celsius = random.randint(-30, 45)\n",
    "    fahrenheit = celsius * (9/5) + 32\n",
    "    return celsius, fahrenheit\n",
    "\n",
    "celsius, fahrenheit = get_temperature()\n",
    "print('Aktuelle Temperatur: {}° Celsius ({:0.2f}° Fahrenheit)'.format(celsius, fahrenheit))"
   ]
  },
  {
   "cell_type": "markdown",
   "metadata": {},
   "source": [
    "Da um diesen Begriff in letzter Zeit so viel Aufregung geherrscht hat: Hier verwenden wir einen Algorithmus zum Umrechnen von Celsius nach Fahrenheit."
   ]
  },
  {
   "cell_type": "code",
   "execution_count": null,
   "metadata": {},
   "outputs": [],
   "source": []
  },
  {
   "cell_type": "markdown",
   "metadata": {},
   "source": [
    "##  Default Parameter\n",
    "Normalerweise muss die Reihenfolge der Argumente beim Aufruf der Funktion der Reihenfolge der Parameter in der Funktionsdeklaration entsprechen und es müssen auch alle Argumente mitgegeben werden:\n",
    "\n",
    "~~~\n",
    "def set_userdata(username, age):\n",
    "    ...\n",
    "    \n",
    "set_userdata('otto', 20)    \n",
    "~~~\n",
    "\n"
   ]
  },
  {
   "cell_type": "markdown",
   "metadata": {},
   "source": [
    "Falls wir einen Parameter nicht zwingend erwarten, können wir für diesen einen Defaultwert definieren:"
   ]
  },
  {
   "cell_type": "code",
   "execution_count": null,
   "metadata": {},
   "outputs": [],
   "source": [
    "def set_userdata(username, age=None):\n",
    "    return username, age\n",
    "\n",
    "print(set_userdata('otto', 20))\n",
    "print(set_userdata('anna'))"
   ]
  },
  {
   "cell_type": "markdown",
   "metadata": {},
   "source": [
    "Wenn der Wert mitgegeben wird, wird er in der Funktion verwendet, falls nicht, wird der Defaultwert verwendet. Solche Parameter müssen **nach** allen anderen Parametern stehen, weshalb der folgende Code-Block nicht funktioniert."
   ]
  },
  {
   "cell_type": "code",
   "execution_count": null,
   "metadata": {},
   "outputs": [],
   "source": [
    "def set_userdata(age=None, username):\n",
    "    return username, age"
   ]
  },
  {
   "cell_type": "markdown",
   "metadata": {},
   "source": [
    "Wenn mehr als ein Default Parameter definiert wird, können beim Aufruf der Funktion Keyword Arguments verwendet werden, wodurch wir uns nicht mehr an die gegebene Reihenfolge halten müssen:"
   ]
  },
  {
   "cell_type": "code",
   "execution_count": null,
   "metadata": {},
   "outputs": [],
   "source": [
    "def set_userdata(username, age=None, weight=None, height=None):\n",
    "    return username, age, weight, height\n",
    "\n",
    "print(set_userdata('Otto', height=181))"
   ]
  },
  {
   "cell_type": "code",
   "execution_count": null,
   "metadata": {},
   "outputs": [],
   "source": [
    "print(set_userdata('Otto', height=181, age=25))"
   ]
  },
  {
   "cell_type": "markdown",
   "metadata": {},
   "source": [
    "## Funktionen mit beliebig vielen Parametern\n",
    "Manchmal ist zum Zeitpunkt, an dem die Funktion geschrieben wird, noch nicht bekannt, wie viele Parameter zu erwarten sind. In diesem Fall können wir die Funktionsdeklaration so schreiben:\n",
    "\n",
    "~~~\n",
    "def my_function(*args):\n",
    "~~~\n",
    "\n",
    "In diesem Fall werden alle Werte in ein Tupel gepackt:\n"
   ]
  },
  {
   "cell_type": "code",
   "execution_count": null,
   "metadata": {},
   "outputs": [],
   "source": [
    "def my_function(*args):\n",
    "    print(type(args))\n",
    "    \n",
    "my_function(1, 2, 3)    "
   ]
  },
  {
   "cell_type": "markdown",
   "metadata": {},
   "source": [
    "Damit können wir z.B. eine Funktion zur Ermittlung des arithmetische Mittels schreiben: "
   ]
  },
  {
   "cell_type": "code",
   "execution_count": null,
   "metadata": {},
   "outputs": [],
   "source": [
    "def avg(*args):\n",
    "    return sum(args) / len(args)\n",
    "\n",
    "avg(1, 2, 3, 4)"
   ]
  },
  {
   "cell_type": "markdown",
   "metadata": {},
   "source": [
    "## Gültigkeitsbereich von Variablen (Scope)\n",
    "Bisher haben wir uns noch keine großen Gedanken darüber gemacht, wann und wo der Wert einer Variablen sichtbar ist. In Zusammenhang mit Funktionen müssen wir uns jedoch damit beschäftigen. Vorauszuschicken ist, dass diese Sichtbarkeit in Python eher ungewöhnlich gelöst ist.\n",
    "\n",
    "Hier ein erstes Beispiel:"
   ]
  },
  {
   "cell_type": "code",
   "execution_count": null,
   "metadata": {},
   "outputs": [],
   "source": [
    "def increase(val):\n",
    "    val += 1\n",
    "\n",
    "val = 1\n",
    "increase(val)\n",
    "print(val)"
   ]
  },
  {
   "cell_type": "markdown",
   "metadata": {},
   "source": [
    "Wesentlich ist hier, dass es die Variable `val` innerhalb der Funktion und auch außerhalb der Funktion gibt.\n",
    "\n",
    "Obwohl wir den Wert in der Funktion um 1 erhöhen (Zeile 2), und `val` somit den Wert `2` haben sollte, wird in der letzen Zeile (Zeile 6) als Wert von `val` als `1` ausgegeben.\n",
    "\n",
    "Lassen wir uns nun den Wert von `val` auch innerhalb der Funktion ausgeben:"
   ]
  },
  {
   "cell_type": "code",
   "execution_count": null,
   "metadata": {},
   "outputs": [],
   "source": [
    "def increase(val):\n",
    "    val += 1\n",
    "    print(\"val in der Funktion: {}\".format(val))\n",
    "\n",
    "val = 1\n",
    "increase(val)\n",
    "print(\"val außerhalb der Funktion: {}\".format(val))"
   ]
  },
  {
   "cell_type": "markdown",
   "metadata": {},
   "source": [
    "Wir haben in diesem Beispiel zwei Gültigkeitsbereich für die Variable `val` (und damit, wenn man so will, zwei Variablen): eine **global** gültige und eine zweite **lokale**, die nur innerhalb der Funktion sichtbar ist. Die Variable `val` innerhalb der Funktion wird in dem Moment eine Kopie des globalen Wertes, wenn sie innerhalb der Funktion verändert wird. \n",
    "\n",
    "Wenn wir nun innerhalb der Funktion den Wert von `val` verändern, betrifft das nur das lokale `val`, also die ausschließlich innerhalb der Funktion verfügbare Kopie, die bei der Rückkehr aus der Funktion wieder automatisch gelöscht wird.\n",
    "\n",
    "Dieses Verhalten wir anhand des nächsten Beispiels sichtbar:"
   ]
  },
  {
   "cell_type": "code",
   "execution_count": null,
   "metadata": {},
   "outputs": [],
   "source": [
    "def increase(val):\n",
    "    print(\"[b]: id von val in der Funktion (vor der Änderung): {}\".format(id(val)))\n",
    "    val += 1\n",
    "    print(\"[c]: id von val in der Funktion nach der Änderung: {}\".format(id(val)))\n",
    "\n",
    "val = 1\n",
    "print(\"[a]: id von val außerhalb der Funktion: {}\".format(id(val)))\n",
    "\n",
    "increase(val)\n",
    "print(\"[d]: id von val außerhalb der Funktion: {}\".format(id(val)))"
   ]
  },
  {
   "cell_type": "markdown",
   "metadata": {},
   "source": [
    "Beim ersten `print()` innerhalb der Funktion hat val noch die id der globalen Variable ([a] und [b]). Erst wenn wir ihren Wert verändern, bekommt das lokale `val` eine neue id ([c]). Das globale `val` behält seine ursprüngliche id ([d])."
   ]
  },
  {
   "cell_type": "markdown",
   "metadata": {},
   "source": [
    "### Sichtbarkeit von globalen Variablen"
   ]
  },
  {
   "cell_type": "markdown",
   "metadata": {},
   "source": [
    "Globale Variablen sind überall sichtbar, lokale Variablen nur in ihrem lokalen Kontext (also z.B. der Funktion). Sehen wir uns zuerst ein Beispiel an, wo wir versuchen im globalen Kontext auf eine lokale Variable zuzugreifen:"
   ]
  },
  {
   "cell_type": "code",
   "execution_count": null,
   "metadata": {},
   "outputs": [],
   "source": [
    "def increase():\n",
    "    local_val = 1\n",
    "    \n",
    "increase()\n",
    "print(local_val)"
   ]
  },
  {
   "cell_type": "markdown",
   "metadata": {},
   "source": [
    "Die Fehlermeldung `'local_val' is not defined` sagt deutlich, dass es im globalen Namensraum keine solche Variable gibt.\n"
   ]
  },
  {
   "cell_type": "markdown",
   "metadata": {},
   "source": [
    "Sehen wir uns nun den umgekehrten Fall an: Globale Variablen sind auch in lokalen Kontexten sichtbar. Oder anders gesagt: Auf globale Variablen kann innerhalb einer Funktion zugegriffen werden (auch wenn diese nicht an die Funktion übergeben wurden):"
   ]
  },
  {
   "cell_type": "code",
   "execution_count": null,
   "metadata": {},
   "outputs": [],
   "source": [
    "def increase():\n",
    "    print(\"Der Wert der globalen Variable 'val' ist {}\".format(val))\n",
    "\n",
    "val = 1\n",
    "increase()"
   ]
  },
  {
   "cell_type": "markdown",
   "metadata": {},
   "source": [
    "Obwohl wir `val` nicht als Argument an die Funktion übergeben und damit keine lokale Variable erzeugt haben, können wir sie innerhalb der Funktion verwenden.\n",
    "\n",
    "Das gilt jedoch nur für lesende Zugriffe. Sobald wir innerhalb der Funktion versuchen, den Wert der globalen Variable `val` zu ändern, wird das durch Python zurückgewiesen:"
   ]
  },
  {
   "cell_type": "code",
   "execution_count": null,
   "metadata": {},
   "outputs": [],
   "source": [
    "def increase():\n",
    "    val = val + 1\n",
    "\n",
    "val = 1\n",
    "increase()\n",
    "print(val)"
   ]
  },
  {
   "cell_type": "markdown",
   "metadata": {},
   "source": [
    "Dieser Mechanismus soll verhindern, dass wir als Seiteneffekt irrtümlich den Wert einer globalen Variablen innerhalb einer Funktion verändern. Solche Seiteneffekte führen nämlich zu Fehlern, die nur sehr schwer zu finden sind."
   ]
  },
  {
   "cell_type": "markdown",
   "metadata": {},
   "source": [
    "Was ist aber nun beim ursprünglichen Beispiel mit der gleichnamigen lokalen und globalen Variable passiert? Hier noch einmal der Code:"
   ]
  },
  {
   "cell_type": "code",
   "execution_count": null,
   "metadata": {},
   "outputs": [],
   "source": [
    "def increase(val):\n",
    "    val += 1\n",
    "    print(\"val in der Funktion: {}\".format(val))\n",
    "\n",
    "val = 1\n",
    "increase(val)\n",
    "print(\"val außerhalb der Funktion: {}\".format(val))"
   ]
  },
  {
   "cell_type": "markdown",
   "metadata": {},
   "source": [
    "Wir haben bei der Definition der Funktion den Parameternamen `val` festgelegt und so die lokale Variable definiert. Beide Variablen haben denselben Namen, sind aber unterschiedlich. Man spricht davon, dass die lokale Variable (innerhalb der Funktion) die globale *überlagert*. Die gleichnamige globale Variable ist also innerhalb der Funktion nicht mehr sichtbar. Hätten wir die lokale Variable (in der Funktionsdeklaration) anders benannt, könnten wir innerhalb der Funktion auch (lesend) auf die globale Variable zugreifen:"
   ]
  },
  {
   "cell_type": "code",
   "execution_count": null,
   "metadata": {},
   "outputs": [],
   "source": [
    "def increase(innerval):\n",
    "    innerval += 1\n",
    "    print(\"val: {}; innerval: {}\".format(val, innerval))\n",
    "\n",
    "val = 1\n",
    "increase(val)\n",
    "print(\"val außerhalb der Funktion: {}\".format(val))"
   ]
  },
  {
   "cell_type": "markdown",
   "metadata": {},
   "source": [
    "### Scope veränderbarer Datentypen\n",
    "Wir haben oben gesehen, dass, wenn wir einen Wert als Argument an eine Funktion übergeben, und die Funktion diesen Wert verändert, innerhalb der Funktion eine lokale Kopie dieses Wertes erzeugt wird. Innerhalb der Funktion werden dann alle Operationen auf diese lokale Kopie (und nicht auf den globalen Wert) angewendet."
   ]
  },
  {
   "cell_type": "code",
   "execution_count": null,
   "metadata": {},
   "outputs": [],
   "source": [
    "def increase(val):\n",
    "    print(\"val in der Funktion vor der Änderung: {}, id: {}\".format(val, id(val)))\n",
    "    val += 1\n",
    "    print(\"val in der Funktion nach der Änderung: {}, id: {}\".format(val, id(val)))\n",
    "\n",
    "val = 1\n",
    "increase(val)\n",
    "print(\"val außerhalb der Funktion: {}, id: {}\".format(val, id(val)))"
   ]
  },
  {
   "cell_type": "markdown",
   "metadata": {},
   "source": [
    "Das eben Behauptete stimmt jedoch nur für nicht veränderbare Datentypen wie Strings, Integers, Floats, usw.\n",
    "\n",
    "Übergeben wir einen veränderbaren Wert an eine Funktion und verändern wir diesen innerhalb der Funktion, so wird keine Kopie angelegt, sondern der ursprüngliche Wert verändert. Es wirk also keine  lokale Kopie erzeugt. Dies war eine bewußte Entscheidung beim Design der Sprache, da die Erzeugung einer Kopie z.B. einer großen, mehrdimensionalen Liste sehr aufwändig ist. \n",
    "\n",
    "Veränderbare Datentypen wie Listen, Dictionaries oder Sets werden also nicht kopiert, sondern es wird der Wert der globalen Variable verändert, wie wir am folgenden Beispiel sehen können:"
   ]
  },
  {
   "cell_type": "code",
   "execution_count": null,
   "metadata": {},
   "outputs": [],
   "source": [
    "def compute_final_grade(grades):\n",
    "    print(\"(b)\", grades, id(grades))\n",
    "    grades[1] = 1\n",
    "    print(\"(c)\", grades, id(grades))\n",
    "    \n",
    "grades = [3, 5, 4, 1]    \n",
    "print(\"(a)\", grades, id(grades))\n",
    "compute_final_grade(grades)\n",
    "print(\"(d)\", grades, id(grades))"
   ]
  },
  {
   "cell_type": "markdown",
   "metadata": {},
   "source": [
    "`grades` ist also innerhalb der Funktion auch nach der Veränderung dasselbe Objekt (mit derselben id) wie außerhalb."
   ]
  },
  {
   "cell_type": "markdown",
   "metadata": {},
   "source": [
    "Dieses Verhalten kann zu unbeabsichtigten Nebeneffekten und damit zu Fehlern führen, die sehr schwer zu finden sind. Man kann sich am einfachsten dagegen schützen, indem man \n",
    "\n",
    "   * keine veränderbaren Typen (Listen, Dictionaries, ...) als Funktionsargumente verwendet\n",
    "   * oder zumindest darauf achtet, dass diese innerhalb der \n",
    "     Funktion nicht verändert werden. \n",
    "   * Alternativ kann man mit Kopien oder Typänderungen auf nicht\n",
    "     veränderbare Typen (wie Tupel) arbeiten. \n",
    "     \n",
    "Als Faustregel sollte man aber die Verwendung veränderbarer Typen als Funktionsargumente vermeiden."
   ]
  },
  {
   "cell_type": "markdown",
   "metadata": {},
   "source": [
    "## Vertiefende Literatur\n",
    "Ich empfehle ausdrücklich, mindestens eine der folgenden Ressourcen zur Vertiefung zu lesen!\n",
    "\n",
    "  * Python Tutorial: \n",
    "\t* Kapitel 4.6 - Defining Functions \n",
    "      (https://docs.python.org/3/tutorial/controlflow.html#defining-functions)\n",
    "    * Kapitel 4.7 - More on Defining Functions\n",
    "\t  (https://docs.python.org/3/tutorial/controlflow.html#more-on-defining-functions)\n",
    "  * Klein, Kurs: \n",
    "\t* Funktionen (https://python-kurs.eu/python3_funktionen.php)\n",
    "\t* Parameter-Übergabe (http://python-kurs.eu/python3_parameter.php)\n",
    "\t* Globale und lokale Variablen (http://python-kurs.eu/python3_global_lokal.php)\n",
    "\t* Rekursive Funktionen (http://python-kurs.eu/python3_rekursive_funktionen.php)\n",
    "\t* Flaches und tiefes Kopieren (http://python-kurs.eu/python3_deep_copy.php)\n",
    "  * Sweigart: https://automatetheboringstuff.com/2e/chapter3/  \n",
    "    \n",
    "    \n",
    "  * Klein, Buch: Kapitel 14, 15 und evtl. 13.\n",
    "  * Kofler: Kapitel 9.\n",
    "  * Weigend: Kapitel 6.1 bis 6.8 und 6.14.\n",
    "  * Pilgrim: Kapitel 1.2\n",
    "    (https://www.diveinto.org/python3/your-first-python-program.html#declaringfunctions)\n",
    "  * Downey: Kapitel 3\n",
    "    (http://www.greenteapress.com/thinkpython/html/thinkpython004.html)\n",
    "    \n",
    "    \n",
    "  * Video: Ned Batchelder - Facts and Myths about Python names and values - PyCon \n",
    "    2015 (https://www.youtube.com/watch?v=_AEJHKGk9ns)"
   ]
  }
 ],
 "metadata": {
  "kernelspec": {
   "display_name": "Python 3",
   "language": "python",
   "name": "python3"
  },
  "language_info": {
   "codemirror_mode": {
    "name": "ipython",
    "version": 3
   },
   "file_extension": ".py",
   "mimetype": "text/x-python",
   "name": "python",
   "nbconvert_exporter": "python",
   "pygments_lexer": "ipython3",
   "version": "3.8.5"
  }
 },
 "nbformat": 4,
 "nbformat_minor": 2
}
