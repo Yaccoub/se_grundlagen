{
 "cells": [
  {
   "cell_type": "markdown",
   "metadata": {},
   "source": [
    "# Bedingungen"
   ]
  },
  {
   "cell_type": "code",
   "execution_count": null,
   "metadata": {},
   "outputs": [],
   "source": [
    "# Im Notebook basics_1.ipynb haben wir die Zeilen aus der Datei\n",
    "# names_short.txt in eine Liste von Zeilen namens clean_names eingelesen.\n",
    "# Das tun wir noch einmal, weil wir diese Liste weiterhin brauchen.\n",
    "with open('data/vornamen/names_short.txt', encoding='utf-8') as fh:\n",
    "    clean_names = [line.rstrip() for line in fh.readlines()]\n",
    "print(clean_names)"
   ]
  },
  {
   "cell_type": "markdown",
   "metadata": {},
   "source": [
    "Oft muss im Programmablauf eine Abzweigung genommenen werden. Stellen wir uns vor, wir programmieren einen Bankomaten:\n",
    "\n",
    "~~~\n",
    "abzuhebender_betrag = input('Wieviel wollen Sie abheben? ')\n",
    "\n",
    "WENN kontostand - abzugebender_betrag > ueberziehungsrahmen:\n",
    "    Geld auszahlen   \n",
    "SONST\n",
    "    AUSGABE: Ihr Kontostand reicht nicht aus\n",
    "~~~\n",
    "\n",
    "Die allgemeine Form einer Bedingung in Python (und den meisten höheren Programmiersprache) sieht so aus:\n",
    "\n",
    "~~~\n",
    "if BEDINGUNG:\n",
    "    tue das eine\n",
    "else:\n",
    "    tue etwas anderes\n",
    "~~~\n",
    "\n",
    "Wobei `else` weggelassen werden kann."
   ]
  },
  {
   "cell_type": "markdown",
   "metadata": {},
   "source": [
    "## if\n",
    "Ermitteln wir nun als Beispiel alle Namen aus unserer Liste `clean_names`, die länger als 8 Zeichen sind:"
   ]
  },
  {
   "cell_type": "code",
   "execution_count": null,
   "metadata": {},
   "outputs": [],
   "source": [
    "for name in clean_names:\n",
    "    if len(name) > 8:\n",
    "        print(name)"
   ]
  },
  {
   "cell_type": "markdown",
   "metadata": {},
   "source": [
    "## Bedingungen in List Comprehensions\n",
    "Das letzte Beispiel lässt sich auch mit einer List Comprehension lösen:"
   ]
  },
  {
   "cell_type": "code",
   "execution_count": null,
   "metadata": {},
   "outputs": [],
   "source": [
    "[name for name in clean_names if len(name) > 8]"
   ]
  },
  {
   "cell_type": "markdown",
   "metadata": {},
   "source": [
    "## if ... else\n",
    "Mit `else` können wir alle Fälle behandeln, die nicht die bei if gestellte Bedingung erfülllen. Im folgenden `else`-Abschnitt wollen wir zählen, wie viele Namen kürzer oder gleich 8 Zeichen sind:"
   ]
  },
  {
   "cell_type": "code",
   "execution_count": null,
   "metadata": {},
   "outputs": [],
   "source": [
    "num_of_short_names = 0\n",
    "num_of_long_names = 0\n",
    "\n",
    "for name in clean_names:\n",
    "    if len(name) > 8:\n",
    "        num_of_long_names += 1\n",
    "    else:\n",
    "        num_of_short_names += 1\n",
    "print(\"{} kurze Namen und {} lange Namen\".format(num_of_short_names, num_of_long_names))        "
   ]
  },
  {
   "cell_type": "markdown",
   "metadata": {},
   "source": [
    "## Unterbedingungen\n",
    "If-Bedingungen können verschachtelt werden:"
   ]
  },
  {
   "cell_type": "code",
   "execution_count": null,
   "metadata": {},
   "outputs": [],
   "source": [
    "short_length_names = 0\n",
    "medium_length_names = 0\n",
    "long_length_names = 0\n",
    "\n",
    "for name in clean_names:\n",
    "    if len(name) > 8:\n",
    "        long_length_names += 1\n",
    "    else:\n",
    "        if len(name) < 5:\n",
    "            short_length_names += 1\n",
    "        else:\n",
    "            medium_length_names += 1\n",
    "print('{} kurze Namen, {} mittellange und {} lange Namen'.format(\n",
    "    short_length_names, medium_length_names, long_length_names))\n",
    "    \n",
    "       \n"
   ]
  },
  {
   "cell_type": "markdown",
   "metadata": {},
   "source": [
    "## if ... elif ... else\n",
    "In Python können solche verschachtelten Bedingungen oft vermieden werden, wenn man `elif` verwendet:"
   ]
  },
  {
   "cell_type": "code",
   "execution_count": null,
   "metadata": {},
   "outputs": [],
   "source": [
    "short_length_names = 0\n",
    "medium_length_names = 0\n",
    "long_length_names = 0\n",
    "\n",
    "for name in clean_names:\n",
    "    if len(name) > 8:\n",
    "        long_length_names += 1\n",
    "    elif len(name) < 5:\n",
    "        short_length_names += 1\n",
    "    else:\n",
    "        medium_length_names += 1\n",
    "        \n",
    "print('{} kurze Namen, {} mittellange und {} lange Namen'.format(\n",
    "    short_length_names, medium_length_names, long_length_names))"
   ]
  },
  {
   "cell_type": "markdown",
   "metadata": {},
   "source": [
    "## Doppelt vorkommende Namen entfernen\n",
    "### Der in-Operator\n",
    "\n",
    "In der Liste `clean_names` kommen manche Namen mehrfach vor. Je nach Fragestellung kann das erwünscht sein oder auch nicht. Versuchen wir daher, doppelt vorkommende Namen zu verhindern. Dazu müssen wir einen neuen Operator einführen,\n",
    "der testet, ob ein Wert in einer Sequenz vorhanden ist: `in`.\n"
   ]
  },
  {
   "cell_type": "code",
   "execution_count": null,
   "metadata": {},
   "outputs": [],
   "source": [
    "'a' in 'Anakonda'"
   ]
  },
  {
   "cell_type": "markdown",
   "metadata": {},
   "source": [
    "`in` funktioniert mit allen Sequenztypen und, wie wir noch sehen werden, ein paar anderen Typen, also auch mit Listen. Hier prüfen wir, ob der Integer `42` in einer Liste vorkommt:"
   ]
  },
  {
   "cell_type": "code",
   "execution_count": null,
   "metadata": {},
   "outputs": [],
   "source": [
    "42 in [1, 55, 44, 32, 71, 41]"
   ]
  },
  {
   "cell_type": "markdown",
   "metadata": {},
   "source": [
    "Und hier verwenden wir `in`, um zu prüfen, ob der Name bereits in einer Liste distinkter Namen erscheint:"
   ]
  },
  {
   "cell_type": "code",
   "execution_count": null,
   "metadata": {},
   "outputs": [],
   "source": [
    "distinct_names = []\n",
    "for name in clean_names:\n",
    "    if name in distinct_names:\n",
    "        pass\n",
    "    else:\n",
    "        distinct_names.append(name)\n",
    "print('clean_names: {} Einträgen, distinct_names: {} Einträge'. format(len(clean_names), len(distinct_names)))   "
   ]
  },
  {
   "cell_type": "markdown",
   "metadata": {},
   "source": [
    "### not in\n",
    "Wenn wir statt `in` `not in` verwenden, können wir uns das `else` ersparen:"
   ]
  },
  {
   "cell_type": "code",
   "execution_count": null,
   "metadata": {},
   "outputs": [],
   "source": [
    "distinct_names = []\n",
    "for name in clean_names:\n",
    "    # TODO\n",
    "        distinct_names.append(name)\n",
    "print('clean_names: {} Einträgen, distinct_names: {} Einträge'. format(len(clean_names), len(distinct_names)))  "
   ]
  },
  {
   "cell_type": "markdown",
   "metadata": {},
   "source": [
    "# Sets\n",
    "Wir können uns das Leben noch einfacher machen, wenn wir unsere Liste in einen neuen Datentyp umwandeln: `set`. Ein Set ist eine Menge im Sinne der Mengenlehre. In einer Menge darf jeder Wert nur einmal erscheinen."
   ]
  },
  {
   "cell_type": "code",
   "execution_count": null,
   "metadata": {},
   "outputs": [],
   "source": [
    "distinct_names = set(clean_names)\n",
    "print('clean_names: {} Einträgen, distinct_names: {} Einträge'. format(len(clean_names), len(distinct_names)))   "
   ]
  },
  {
   "cell_type": "markdown",
   "metadata": {},
   "source": [
    "`distinct_names` ist jetzt aber keine Liste mehr, sondern vom Typ `set`:"
   ]
  },
  {
   "cell_type": "code",
   "execution_count": null,
   "metadata": {},
   "outputs": [],
   "source": [
    "type(distinct_names)"
   ]
  },
  {
   "cell_type": "markdown",
   "metadata": {},
   "source": [
    "Wir können ein Set einfach wieder in eine Liste zurückverwandeln: `distinct_names = list(set(clean_names))`, das ist aber vielfach nicht nötig, weil auch ein Set, obwohl es keine Sequenz ist, ähnliche Interaktionsmöglichkeiten bietet wie eine Sequenz, z.B. kann auch über ein Set mit `for ... in` iteriert werden: "
   ]
  },
  {
   "cell_type": "code",
   "execution_count": null,
   "metadata": {},
   "outputs": [],
   "source": [
    "short_length_names = 0\n",
    "medium_length_names = 0\n",
    "long_length_names = 0\n",
    "\n",
    "for name in distinct_names:\n",
    "    if len(name) > 8:\n",
    "        long_length_names += 1\n",
    "    elif len(name) < 5:\n",
    "        short_length_names += 1\n",
    "    else:\n",
    "        medium_length_names += 1\n",
    "        \n",
    "print('{} kurze Namen, {} mittellange und {} lange Namen'.format(\n",
    "    short_length_names, medium_length_names, long_length_names))"
   ]
  },
  {
   "cell_type": "markdown",
   "metadata": {},
   "source": [
    "## Mengenoperatoren\n",
    "Auch wenn Sets praktisch sind, um mehrfach vorkommende Werte auf einen Wert zu reduzieren, liegt ihr eigentlicher Daseinszweck in den Mengenoperatoren. Ich verweise dazu auf das Skriptum bzw. die Folien im Kurs und zeige hier nur, wie einfach z.B. die Schnittmenge zweier Mengen ermittelt werden kann:"
   ]
  },
  {
   "cell_type": "code",
   "execution_count": null,
   "metadata": {},
   "outputs": [],
   "source": [
    "s1 = {'Anna', 'Otto', 'Franz', 'Willi'}\n",
    "s2 = {'Hans', 'Franz', 'Anna'}\n",
    "s1 & s2"
   ]
  },
  {
   "cell_type": "markdown",
   "metadata": {},
   "source": [
    "## Ein leeres Set anlegen und später befüllen"
   ]
  },
  {
   "cell_type": "code",
   "execution_count": null,
   "metadata": {},
   "outputs": [],
   "source": [
    "student_set = set()\n",
    "print(len(student_set))\n",
    "student_set.add('Anna')\n",
    "student_set.add('Berta')\n",
    "student_set.add('Anna')\n",
    "print(len(student_set))"
   ]
  },
  {
   "cell_type": "markdown",
   "metadata": {},
   "source": [
    "## Werte aus einem Set entfernen\n",
    "Mit `remove()` lässt sich ein Wert wieder aus einem Set entfernen."
   ]
  },
  {
   "cell_type": "code",
   "execution_count": null,
   "metadata": {},
   "outputs": [],
   "source": [
    "my_set = {5, 2, 4, 3}\n",
    "print(my_set)\n",
    "my_set.remove(3)\n",
    "print(my_set)"
   ]
  },
  {
   "cell_type": "markdown",
   "metadata": {},
   "source": [
    "# Dictionaries\n",
    "\n",
    "Dictionaries, die in anderen Programmiersprachen auch *Maps*, *Hashtables* oder *Assoziative Arrays* heißen, sind (intern) einer der wichtigsten Typen in Python. In einem Dictionary wird jeder Wert über einen Key (Schlüssel) referenziert.\n",
    "Ein leeres Dictionary wird so angelegt:"
   ]
  },
  {
   "cell_type": "code",
   "execution_count": null,
   "metadata": {},
   "outputs": [],
   "source": [
    "phone_numbers = {}"
   ]
  },
  {
   "cell_type": "markdown",
   "metadata": {},
   "source": [
    "Dann können Werte eingefügt werden:"
   ]
  },
  {
   "cell_type": "code",
   "execution_count": null,
   "metadata": {},
   "outputs": [],
   "source": [
    "phone_numbers['Anna'] = '0316 123456'\n",
    "phone_numbers['Hans'] = '0664 345678'\n",
    "phone_numbers['Otto'] = '0660 987654'"
   ]
  },
  {
   "cell_type": "markdown",
   "metadata": {},
   "source": [
    "Dann können Werte abgefragt werden:"
   ]
  },
  {
   "cell_type": "code",
   "execution_count": null,
   "metadata": {},
   "outputs": [],
   "source": [
    "phone_numbers['Hans']"
   ]
  },
  {
   "cell_type": "markdown",
   "metadata": {},
   "source": [
    "**Wichtig**: in einem Dictionary kann ein Schlüssel nur einmal verwendet werden. Wird er ein zweites Mal verwendet, wird der ursprüngliche Wert überschrieben."
   ]
  },
  {
   "cell_type": "code",
   "execution_count": null,
   "metadata": {},
   "outputs": [],
   "source": [
    "phone_numbers['Hans'] = '0521 578978'"
   ]
  },
  {
   "cell_type": "markdown",
   "metadata": {},
   "source": [
    "Wenn man will, kann man die Schlüssel-Wertpaare auch direkt anlegen:"
   ]
  },
  {
   "cell_type": "code",
   "execution_count": null,
   "metadata": {},
   "outputs": [],
   "source": [
    "phone_numbers = {\n",
    "    'Anna': '0316 123456',\n",
    "    'Hans': '0664 345678',\n",
    "    'Otto': '0660 987654'\n",
    "}\n",
    "phone_numbers"
   ]
  },
  {
   "cell_type": "markdown",
   "metadata": {},
   "source": [
    "## Ein Dictionary als Zähler\n",
    "Wir können eine Dictionary verwenden, um unsere Namen zu zählen:"
   ]
  },
  {
   "cell_type": "code",
   "execution_count": null,
   "metadata": {},
   "outputs": [],
   "source": [
    "name_counter = {}\n",
    "for name in clean_names:\n",
    "    if name in name_counter:\n",
    "        name_counter[name] += 1\n",
    "    else:\n",
    "        name_counter[name] = 1\n",
    "print(name_counter)        "
   ]
  },
  {
   "cell_type": "markdown",
   "metadata": {},
   "source": [
    "Wie wir sehen, funktioniert `for ... in` auch für Dictionaries. Dabei wird ein Key nach dem anderen geliefert."
   ]
  },
  {
   "cell_type": "markdown",
   "metadata": {},
   "source": [
    "Wenn wir nur an Namen interessiert sind, die mindestens zwei Mal erscheinen können wir das so lösen:"
   ]
  },
  {
   "cell_type": "code",
   "execution_count": null,
   "metadata": {},
   "outputs": [],
   "source": [
    "for key in name_counter:\n",
    "    if name_counter[key] > 1:\n",
    "        print('{} erschein {} Mal'.format(key, name_counter[key]))"
   ]
  },
  {
   "cell_type": "markdown",
   "metadata": {},
   "source": [
    "## Sortieren"
   ]
  },
  {
   "cell_type": "markdown",
   "metadata": {},
   "source": [
    "Listen lassen sich sehr einfach sortieren:"
   ]
  },
  {
   "cell_type": "code",
   "execution_count": null,
   "metadata": {},
   "outputs": [],
   "source": [
    "clean_names.sort()\n",
    "clean_names"
   ]
  },
  {
   "cell_type": "markdown",
   "metadata": {},
   "source": [
    "Zum Nachdenken:\n",
    "\n",
    "1. Warum können wir `distinct_names` nicht sortieren?\n",
    "1. Was müsste man tun, um `distinct_names` sortierbar zu machen?"
   ]
  },
  {
   "cell_type": "code",
   "execution_count": null,
   "metadata": {},
   "outputs": [],
   "source": []
  },
  {
   "cell_type": "markdown",
   "metadata": {},
   "source": [
    "Die Methode `sort()` sortiert inline, d.h. die existierende Liste wird umsortiert; die ursprüngliche Reihenfolge geht verloren. Wir können allerdings bei Bedarf auch eine sortierte Kopie der ursprünglichen Liste erzeugen:"
   ]
  },
  {
   "cell_type": "code",
   "execution_count": null,
   "metadata": {
    "scrolled": true
   },
   "outputs": [],
   "source": [
    "sorted_distinct_names = sorted(distinct_names)\n",
    "print(distinct_names)\n",
    "print(sorted_distinct_names)"
   ]
  },
  {
   "cell_type": "markdown",
   "metadata": {},
   "source": [
    "## Komplexere Listen sortieren\n",
    "Solange eine Liste nur aus einzelnen Werten besteht, ist die Sortierung einfach. Aber was, wenn wie eine Liste von Listen oder eine Liste von Tupeln sortieren wollen? Erinnern wir uns an den `name_counter`, den wir oben geschrieben haben."
   ]
  },
  {
   "cell_type": "code",
   "execution_count": null,
   "metadata": {},
   "outputs": [],
   "source": [
    "name_counter"
   ]
  },
  {
   "cell_type": "markdown",
   "metadata": {},
   "source": [
    "Wenn wir Python >= 3.6 verwenden, sollte die obige Ausgabe nach Keys sortiert sein (weil wir die Liste, aus der gezählt wurde, zuvor sortiert hatten). Für andere Python Versionen können wir uns darauf aber nicht verlassen. Wie sortieren wir nun nach den Schlüsseln? Dazu gibt es mehrere Möglichkeiten.\n",
    "\n",
    "### Möglichkeit 1: Zuerst die Keys sortieren"
   ]
  },
  {
   "cell_type": "code",
   "execution_count": null,
   "metadata": {},
   "outputs": [],
   "source": [
    "for key in sorted(name_counter.keys()):\n",
    "    print('{} -> {}'.format(key, name_counter[key]))"
   ]
  },
  {
   "cell_type": "markdown",
   "metadata": {},
   "source": [
    "### Möglichkeit 2: Das Dictionary in ein Set von Tupeln umwandeln.\n",
    "Da wir uns wegen älterer Python-Versionen nicht darauf verlassen können, das in einem Dicitionary die Einträge sortiert vorliegen, können wir die Key-Value-Paare eines Dictionaries in eine Liste von Key-Value-Tupeln umwandeln. \n",
    "Vorläufig stellen wir uns ein Tupel einmal wie eine nachträglich nicht mehr veränderbare Liste vor."
   ]
  },
  {
   "cell_type": "code",
   "execution_count": null,
   "metadata": {},
   "outputs": [],
   "source": [
    "my_list = ['a', 'b', 'c']\n",
    "my_tuple = ('a', 'b', 'c')\n",
    "my_list.append('d')\n",
    "my_tuple.append('d')"
   ]
  },
  {
   "cell_type": "markdown",
   "metadata": {},
   "source": [
    "\n",
    "Tupel werden, wie wir oben gesehen haben, durch ein Paar runder Klammern gekennzeichnet."
   ]
  },
  {
   "cell_type": "markdown",
   "metadata": {},
   "source": [
    "Kehren wir zurück zum ursprünglichen Problem: wir wollten die Werte des Dictionaries sortieren. Dazu verwandeln wir jedes\n",
    "Schlüssel-Wert-Paar in ein Tuppel. Aus z.B. `'david': 2` wird `('david', 2)`. Das wird so oft benötigt, dass Dictionaries eine eigene Methode dafür eingebaut haben: `items()` "
   ]
  },
  {
   "cell_type": "code",
   "execution_count": null,
   "metadata": {},
   "outputs": [],
   "source": [
    "name_counter.items()"
   ]
  },
  {
   "cell_type": "markdown",
   "metadata": {},
   "source": [
    "Wir können uns das zunutze machen, um ein sortierte Liste von Tupeln zu erzeugen:"
   ]
  },
  {
   "cell_type": "code",
   "execution_count": null,
   "metadata": {},
   "outputs": [],
   "source": [
    "sorted_by_name = sorted(name_counter.items())\n",
    "sorted_by_name"
   ]
  },
  {
   "cell_type": "markdown",
   "metadata": {},
   "source": [
    "Was aber, wenn wir nicht nach den Schlüsseln, sondern nach den Werten sortieren wollen? Hier wird die Sache etwas komplizierter. Sowohl `sort()` als auch `sorted()` kennen einen Parameter `key=`, der als Argument eine Funktion erwartet, die den zu sortierenden Wert zurückgibt. Da diese Funktion in unserem Fall nichts anderes tut, als den zweiten Wert eines jeden Tupels zurückzugeben, brauchen wir keine eigene Funktion zu schreiben, sondern können uns mit einem Lambda-Ausdruck begnügen (Details dazu in den Folien). Ein Lambda-Ausdruck hat diese Form:\n",
    "\n",
    "~~~\n",
    "lambda argument[, argument]: aktion\n",
    "~~~\n",
    "\n",
    "~~~\n",
    "lambda mytuple: mytuple[1]\n",
    "~~~\n",
    "\n",
    "tut also nichts anderes, als ein Tupel an den Lambda-Ausdruck zu übergeben, der den zweiten Wert des Tupels zurückgibt."
   ]
  },
  {
   "cell_type": "code",
   "execution_count": null,
   "metadata": {},
   "outputs": [],
   "source": [
    "sorted_by_value = sorted(name_counter.items(), key=lambda x: x[1])\n",
    "sorted_by_value"
   ]
  },
  {
   "cell_type": "markdown",
   "metadata": {},
   "source": [
    "Wenn wir an den häufiger vorkommenden Namen stärker interessiert sind, können wir die Sortierreigenfolge mit einem weiteren Parameter `reverse=` umdrehen:"
   ]
  },
  {
   "cell_type": "code",
   "execution_count": null,
   "metadata": {},
   "outputs": [],
   "source": [
    "sorted_by_value = sorted(name_counter.items(), key=lambda x: x[1], reverse=True)\n",
    "sorted_by_value"
   ]
  },
  {
   "cell_type": "code",
   "execution_count": null,
   "metadata": {},
   "outputs": [],
   "source": []
  }
 ],
 "metadata": {
  "kernelspec": {
   "display_name": "Python 3",
   "language": "python",
   "name": "python3"
  },
  "language_info": {
   "codemirror_mode": {
    "name": "ipython",
    "version": 3
   },
   "file_extension": ".py",
   "mimetype": "text/x-python",
   "name": "python",
   "nbconvert_exporter": "python",
   "pygments_lexer": "ipython3",
   "version": "3.8.5"
  }
 },
 "nbformat": 4,
 "nbformat_minor": 2
}
