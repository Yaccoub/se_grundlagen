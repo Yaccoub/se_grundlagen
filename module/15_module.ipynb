{
 "cells": [
  {
   "cell_type": "markdown",
   "metadata": {},
   "source": [
    "# Module"
   ]
  },
  {
   "cell_type": "markdown",
   "metadata": {},
   "source": [
    "## Was sind Module?\n",
    "\n",
    "Python organisiert Sourcecode in *Modulen*. Ein Modul ist nichts anderes,\n",
    "als eine Datei mit der Extension `.py`.\n",
    "\n",
    "Module dienen dazu,\n",
    "\n",
    "* große Projekte in mehrere kleinere überschaubare (und logisch\n",
    "  zusammenhängende) Sourcecode-Dateien zu organisieren\n",
    "* Code besser wiederverwendbar zu machen, da Module selektiv in neuen Code\n",
    "  importiert werden können\n",
    "\n",
    "Kleine Skripte kann man ohne weiteres in eine einzige Datei packen.\n",
    "Sobald ein Programm aber mehr als ein paar hundert Zeilen hat, empfiehlt es\n",
    "sich, den Code auf mehrere Module aufzuteilen, auch weil der Code dadurch\n",
    "einfacher zu pflegen und zu testen ist.\n"
   ]
  },
  {
   "cell_type": "markdown",
   "metadata": {},
   "source": [
    "## Module sind überall\n",
    "\n",
    "Nicht nur der eigene Programmcode lässt sich in Modulen organisieren, auch\n",
    "fremder Code wird in Modulen verteilt:\n",
    "\n",
    "* Die Standard-Library von Python ist in Modulen (und Paketen, die mehrere Module bündeln) organisiert\n",
    "* Third-Party-Libraries sind ebenfalls als Module verfügbar\n"
   ]
  },
  {
   "cell_type": "markdown",
   "metadata": {},
   "source": [
    "## Module müssen importiert werden\n",
    "Damit ein Modul im eigenen Programm verwendet werden kann, muss das Modul zuerst importiert werden:\n",
    "\n",
    "~~~\n",
    "import <Modulname>\n",
    "~~~\n",
    "    \n",
    "Danach steht das Modul mit der dort definierten Funktionalität zur Verfügung. Das in der mit Python mitinstallierten Standardlibrary vorhandene Modul `random` stellt eine Reihe von Zufalls-Funktionen bereit. Damit wird diese verwenden können, müssen wir das Modul zuerst importieren:"
   ]
  },
  {
   "cell_type": "code",
   "execution_count": null,
   "metadata": {},
   "outputs": [],
   "source": [
    "import random"
   ]
  },
  {
   "cell_type": "markdown",
   "metadata": {},
   "source": [
    "Danach können wir uns beispielsweise eine Zufallszahl generieren lassen:"
   ]
  },
  {
   "cell_type": "code",
   "execution_count": null,
   "metadata": {},
   "outputs": [],
   "source": [
    "random.randint(0, 1000000)"
   ]
  },
  {
   "cell_type": "markdown",
   "metadata": {},
   "source": [
    "## Module und Namensräume\n",
    "Im letzten Beispiel haben wir nicht irgendeine Funktion mit dem Namen `randint` verwendet, sondern genau die, die vom Modul `random` bereit gestellt wird.\n",
    "\n",
    "Module strukturieren daher nicht nur den Sourcecode, sondern bilden auch Namensräume,\n",
    "wodurch verhindert wird, dass sich beispielsweise zwei in unterschiedlichen\n",
    "Modulen definierte, gleichnamige Funktionen gegenseitig überlagern. Um das zu verdeutlichen habe ich im Verzeichnis, in dem dieses Notebook liegt, zwei minimale Module angelegt:\n",
    "\n",
    "* a.py\n",
    "* b.py\n",
    "\n",
    "In beiden Modulen gibt es eine Funktion `serialize()`, die wir unter Nutzung der Namensräume beide in unserem Programm nutzen können:"
   ]
  },
  {
   "cell_type": "code",
   "execution_count": null,
   "metadata": {},
   "outputs": [],
   "source": [
    "import a\n",
    "import b\n",
    "\n",
    "a.serialize()\n",
    "b.serialize()"
   ]
  },
  {
   "cell_type": "markdown",
   "metadata": {},
   "source": [
    "Der Namensraum ist einfach der Name der Datei, die das Modul repräsentiert.\n",
    "\n",
    "Im obigen Beispiel gibt es also ein Modul (d.h. eine Datei) `a.py` und ein\n",
    "zweites Modul `b.py`.\n"
   ]
  },
  {
   "cell_type": "markdown",
   "metadata": {},
   "source": [
    "## Module importieren\n",
    "Wir haben bereits gehört, dass wir Module importieren müssen, ehe wir sie verwenden können. Dazu gibt es verschiedene Möglichkeiten. Die einfachste haben wir bereits kennengelernt: Wir importieren das gesamte Modul unter Beibehaltung des Modulnamens. Als Beispiel verwenden wir wieder ein Modul aus der Standard-Library: `sys` stellt Informationen zur aktuellen Systemumgebung bereit:"
   ]
  },
  {
   "cell_type": "code",
   "execution_count": null,
   "metadata": {},
   "outputs": [],
   "source": [
    "import sys\n",
    "sys.version"
   ]
  },
  {
   "cell_type": "code",
   "execution_count": null,
   "metadata": {},
   "outputs": [],
   "source": [
    "sys.platform"
   ]
  },
  {
   "cell_type": "markdown",
   "metadata": {},
   "source": [
    "### Nur einen Teil eines Moduls importieren\n",
    "Manchmal sind wir nur an einem kleinen Teil eines Moduls interessiert, zum Beispiel wenn wir nur die aktuelle verwendetet Plattform herausfinden wollen:"
   ]
  },
  {
   "cell_type": "code",
   "execution_count": null,
   "metadata": {},
   "outputs": [],
   "source": [
    "from sys import platform\n",
    "platform"
   ]
  },
  {
   "cell_type": "markdown",
   "metadata": {},
   "source": [
    "**Achtung**: Hier haben wir etwas aus einem Modul in den globalen (bzw. unseren eigenen) Namensraum importiert. Wir ersparen uns dadurch zwar Tipparbeit, handeln uns aber auch einige Probleme ein, weil wir den eigenen Namensraum verschmutzt haben:\n",
    "\n",
    "* Wir haben die Nachvollziehbarkeit unseres Codes erschwert, weil beim Lesen des Codes erst herausgefunden werden muss, was es mit diesem `platform` auf sich hat - `sys.platform` ist hier viel klarer.\n",
    "* Wir können uns Seiteneffekte einhandeln, wenn wir uns u.U. unbeabsichtigt eigene Variablen überlagern.\n",
    "\n",
    "Hier ein Beispiel:"
   ]
  },
  {
   "cell_type": "code",
   "execution_count": null,
   "metadata": {},
   "outputs": [],
   "source": [
    "version = '0.9 beta'\n",
    "print('Sie verwenden MeinProgramm in Version {}'.format(version))\n",
    "\n",
    "# Imports sollten immer ganz oben passieren, man kann sie aber überall verwenden\n",
    "from sys import version \n",
    "print('Sie verwenden MeinProgramm in Version {}'.format(version))"
   ]
  },
  {
   "cell_type": "markdown",
   "metadata": {},
   "source": [
    "Noch schlimmer ist diese Version:"
   ]
  },
  {
   "cell_type": "code",
   "execution_count": null,
   "metadata": {},
   "outputs": [],
   "source": [
    "version = '0.9 beta'\n",
    "\n",
    "# Imports sollten immer ganz oben passieren, man kann sie aber überall verwenden\n",
    "from sys import *\n",
    "print('Sie verwenden MeinProgramm in Version {}'.format(version))"
   ]
  },
  {
   "cell_type": "markdown",
   "metadata": {},
   "source": [
    "Hier haben wir **alles** aus dem Modul `sys` in unseren eigenen Namespace importiert. Wir waren uns möglicherweise gar nicht bewusst, dass es in `sys` eine Variable `version` gibt, die unsere eigene Variable überlagert. Schwer zu findende Fehler sind so vorprogrammiert!"
   ]
  },
  {
   "cell_type": "markdown",
   "metadata": {},
   "source": [
    "Kleiner Exkurs: wenn Sie feststellen wollen, was in einem Modul vorhanden (und was wir beim letzten Beispiel allen in unseren Namensraum importiert haben) ist, können Sie die `dir()` Funktion verwenden:"
   ]
  },
  {
   "cell_type": "code",
   "execution_count": null,
   "metadata": {},
   "outputs": [],
   "source": [
    "import sys\n",
    "dir(sys)"
   ]
  },
  {
   "cell_type": "markdown",
   "metadata": {},
   "source": [
    "### Namensräume umdefinieren\n",
    "Manche Namensräume sind sehr lange und es ist daher mühsam, diese immer einzutippen. Deshalb besteht die Möglichkeit, einem Modul einen eigenen Namen zuzuweisen. `pyplot` ist ein Modul des mächtigen `matplotlib` Pakets. (Achtung: Dieses Paket ist nicht in der Standard-Library und muss möglicherweise erst nachinstalliert werden).\n",
    "\n",
    "Hier zuerst die umständliche Variante:"
   ]
  },
  {
   "cell_type": "code",
   "execution_count": null,
   "metadata": {},
   "outputs": [],
   "source": [
    "import matplotlib.pyplot\n",
    "matplotlib.pyplot.plot([1, 2, 3, 4, 4, 3, 5, 6, 6, 3, 3, 4])\n",
    "matplotlib.pyplot.show()"
   ]
  },
  {
   "cell_type": "markdown",
   "metadata": {},
   "source": [
    "Normalerweise schreibt man das allerdings so, um sich Tipparbeit zu sparen:"
   ]
  },
  {
   "cell_type": "code",
   "execution_count": null,
   "metadata": {},
   "outputs": [],
   "source": [
    "import matplotlib.pyplot as plt\n",
    "plt.plot([1, 2, 3, 4, 4, 3, 5, 6, 6, 3, 3, 4])\n",
    "plt.show()"
   ]
  },
  {
   "cell_type": "markdown",
   "metadata": {},
   "source": [
    "### Module und Docstrings\n",
    "So wie eine Funktion durch einen Docstring beschrieben werden kann, funktioniert das auch für Module. Dazu muss man einfach direkt am Anfang der Modul-Datei den entsprechenden Docstring einfügen. Im Verzeichnis dieses Notebooks finden Sie eine Datei (d.h. ein Modul) [mystring.py](mystring.py). Da dieses Modul über einen DocString verfügt, können diesen auslesen:"
   ]
  },
  {
   "cell_type": "code",
   "execution_count": null,
   "metadata": {},
   "outputs": [],
   "source": [
    "import mystring\n",
    "help(mystring)"
   ]
  },
  {
   "cell_type": "code",
   "execution_count": null,
   "metadata": {},
   "outputs": [],
   "source": [
    "mystring.reverse('abc')"
   ]
  },
  {
   "cell_type": "code",
   "execution_count": null,
   "metadata": {},
   "outputs": [],
   "source": [
    "mystring.distinct_len('Mississippi')"
   ]
  },
  {
   "cell_type": "markdown",
   "metadata": {},
   "source": [
    "## Wie werden Module gefunden?\n",
    "Module können an unterschiedlichen Stellen im Filesystem liegen. Hier wird kurz beschrieben, wo und wie Python nach Modulen sucht. Dabei kommt eine bestimmte Reihenfolge zum Einsatz. Sobald das zu importierende (oder -- Achtung Falle! -- ein gleichnamiges) Modul gefunden wird, wird dieses verwendet. Diese Reihenfolge ist:\n",
    "\n",
    "1. Das aktuelle Verzeichnis.\n",
    "1. Alle Verzeichnisse, die in der Umgebungsvariable `PYTHONPATH` definiert sind.\n",
    "1. Abhängig von der aufgerufenen Python-Version in bestimmten Verzeichnissen, in denen beispielweise die Standard Library liegt.\n",
    "\n",
    "Das `sys`-Modul weiß, wo gesucht wird:"
   ]
  },
  {
   "cell_type": "code",
   "execution_count": null,
   "metadata": {},
   "outputs": [],
   "source": [
    "import sys\n",
    "sys.path"
   ]
  },
  {
   "cell_type": "markdown",
   "metadata": {},
   "source": [
    "`sys.path` ist übrigens eine normale Liste, die z.B. erweitert werden kann (was aber, wenn Sie Ihr Programm weitergeben wollen, keine besonders gute Idee ist)."
   ]
  },
  {
   "cell_type": "markdown",
   "metadata": {},
   "source": [
    "## Module und Bytecode\n",
    "Wenn ein Modul zum ersten Mal von Python geladen wird, übersetzt es den Code in Bytecode und speichert diesen in eine eigene Datei, damit das Modul bei zukünftigen Aufrufen schneller geladen werden kann. Diese Bytecode-Dateien haben die Dateinamenerweiterung `.pyc` und liegen unter Python3 im Verzeichnis `__pycache__`. Sowohl dieses Verzeichnis als auch einzelne `pyc`-Datei können gefahrlos gelöscht werden, weil Sie bei Bedarf automatisch  neu erzeugt werden."
   ]
  },
  {
   "cell_type": "markdown",
   "metadata": {},
   "source": [
    "# Pakete\n",
    "Wenn man größere Projekte tiefer organisieren will, kann man mehrere Module\n",
    "(und sogar Subpakete) zu einem Paket zusammenfassen.\n",
    "\n",
    "Ein Paket ist nichts anderes, als ein Verzeichnis, das Module enthält. Zu einem\n",
    "Paket wird ein solches Verzeichnis allerdings erst, wenn im Verzeichnis\n",
    "eine Datei `__init__.py` existiert. Diese Datei kann leer sein.\n",
    "\n",
    "Ein Modul in einem Paket wird durch den Punkt-Operator getrennt angesprochen:\n",
    "\n",
    "~~~\n",
    ">>> import os\n",
    ">>> if os.path.exists('daten.csv'):\n",
    "...\n",
    "~~~\n",
    "\n"
   ]
  },
  {
   "cell_type": "markdown",
   "metadata": {},
   "source": [
    "## Vertiefende Literatur\n",
    "\n",
    "Ich empfehle ausdrücklich, mindestens eine der folgenden Ressourcen zur Vertiefung zu lesen!\n",
    "\n",
    "* Python Tutorial: Kapitel 6 (https://docs.python.org/3/tutorial/modules.html)\n",
    "* Klein, Kurs: Modularisierung (http://python-kurs.eu/python3_modularisierung.php)\n",
    "* Downey: Kapitel 14.9 (http://www.greenteapress.com/thinkpython/html/thinkpython015.html#toc162)\n",
    "\n",
    "\n",
    "\n",
    "* Klein, Buch: Kapitel 12\n",
    "* Kofler: Kapitel 12\n",
    "* Weigend: Kapitel 11\n",
    "* Briggs: Kapitel 8.3"
   ]
  },
  {
   "cell_type": "markdown",
   "metadata": {},
   "source": [
    "## Lizenz\n",
    "\n",
    "This notebook ist part of the course [Grundlagen der Programmierung](https://github.com/gvasold/gdp) held by [Gunter Vasold](https://online.uni-graz.at/kfu_online/wbForschungsportal.cbShowPortal?pPersonNr=51488) at Graz University 2017&thinsp;ff. \n",
    "\n",
    "<p>\n",
    "    It is licensed under <a href=\"https://creativecommons.org/licenses/by-nc-sa/4.0\">CC BY-NC-SA 4.0</a>\n",
    "</p>\n",
    "\n",
    "<table>\n",
    "    <tr>\n",
    "    <td>\n",
    "        <img style=\"height:22px\" \n",
    "             src=\"https://mirrors.creativecommons.org/presskit/icons/cc.svg?ref=chooser-v1\"/></li>\n",
    "    </td>\n",
    "    <td>\n",
    "    <img style=\"height:22px;\"\n",
    "         src=\"https://mirrors.creativecommons.org/presskit/icons/by.svg?ref=chooser-v1\" /></li>\n",
    "    </td>\n",
    "    <td>\n",
    "        <img style=\"height:22px;\"\n",
    "         src=\"https://mirrors.creativecommons.org/presskit/icons/nc.svg?ref=chooser-v1\" /></li>\n",
    "    </td>\n",
    "    <td>\n",
    "        <img style=\"height:22px;\"\n",
    "             src=\"https://mirrors.creativecommons.org/presskit/icons/sa.svg?ref=chooser-v1\" /></li>\n",
    "    </td>\n",
    "</tr>\n",
    "</table>"
   ]
  }
 ],
 "metadata": {
  "kernelspec": {
   "display_name": "Python 3",
   "language": "python",
   "name": "python3"
  },
  "language_info": {
   "codemirror_mode": {
    "name": "ipython",
    "version": 3
   },
   "file_extension": ".py",
   "mimetype": "text/x-python",
   "name": "python",
   "nbconvert_exporter": "python",
   "pygments_lexer": "ipython3",
   "version": "3.8.5"
  }
 },
 "nbformat": 4,
 "nbformat_minor": 2
}
